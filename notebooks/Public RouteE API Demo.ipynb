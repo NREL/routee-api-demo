{
 "cells": [
  {
   "cell_type": "markdown",
   "id": "684adf92-d9af-4b31-aef9-8c5b26944083",
   "metadata": {},
   "source": [
    "# RouteE API Walkthrough\n",
    "\n",
    "This notebook demonstrates how to use the RouteE API. \n",
    "\n",
    "### Requirements: \n",
    "- [Python](https://www.python.org/): 3.8.X\n",
    "- [requests](https://docs.python-requests.org/en/latest/): 2.25.X\n",
    "- [pandas](https://pandas.pydata.org/): 1.2.X\n",
    "- A developer.nrel.gov API key. Sign-up [here](https://developer.nrel.gov/signup/).\n",
    "\n",
    "For more detailed information see the [API documentation](https://developer.nrel.gov/docs/transportation/routee-v1/) or the [API key rate limits page](https://developer.nrel.gov/docs/rate-limits/)."
   ]
  },
  {
   "cell_type": "markdown",
   "id": "9ba2d01d-72c6-400d-b56e-03a8bc36af35",
   "metadata": {},
   "source": [
    "## Design and Intend Usage Philosophy\n",
    "\n",
    "This tool was designed with a specific application in mind. The overall workflow is:\n",
    "\n",
    "1. Take the user's tabular route or network transportation data, convert it to JSON format.\n",
    "2. POST to the API the route/network data with additional JSON parameters that define the RouteE model application.\n",
    "3. Return the API response in JSON format with road segment-level energy estimates and metadata. Then, convert the response JSON back to tabular format.\n",
    "4. Join (by attribute) with your original data to append the energy cost information."
   ]
  },
  {
   "cell_type": "markdown",
   "id": "43aa16cf-7967-4b39-8739-bf02b428fd16",
   "metadata": {},
   "source": [
    "## A. route endpoint example:"
   ]
  },
  {
   "cell_type": "code",
   "execution_count": 37,
   "id": "9f337939-3605-4114-9038-96286a715caf",
   "metadata": {},
   "outputs": [],
   "source": [
    "# Setup\n",
    "import requests\n",
    "import warnings\n",
    "import json\n",
    "\n",
    "import pandas as pd\n",
    "from pprint import pprint\n",
    "from pathlib import Path\n",
    "\n",
    "warnings.filterwarnings('ignore')\n",
    "\n",
    "your_api_key = 'DEMO_KEY'\n",
    "\n",
    "DEV_URL_ROUTE = f'https://developer.nrel.gov/api/routee/v2/route?api_key={your_api_key}'"
   ]
  },
  {
   "cell_type": "markdown",
   "id": "28f017c3-b0e8-4fb0-bf0d-85846799c67b",
   "metadata": {},
   "source": [
    "## 1. Take the user's tabular route or network transportation data, convert it to JSON format."
   ]
  },
  {
   "cell_type": "code",
   "execution_count": 38,
   "id": "a49166f1-84a4-4b3b-ba3a-fe9abb724e87",
   "metadata": {},
   "outputs": [
    {
     "name": "stdout",
     "output_type": "stream",
     "text": [
      "What your data might look like in your database: \n"
     ]
    },
    {
     "data": {
      "text/html": [
       "<div>\n",
       "<style scoped>\n",
       "    .dataframe tbody tr th:only-of-type {\n",
       "        vertical-align: middle;\n",
       "    }\n",
       "\n",
       "    .dataframe tbody tr th {\n",
       "        vertical-align: top;\n",
       "    }\n",
       "\n",
       "    .dataframe thead th {\n",
       "        text-align: right;\n",
       "    }\n",
       "</style>\n",
       "<table border=\"1\" class=\"dataframe\">\n",
       "  <thead>\n",
       "    <tr style=\"text-align: right;\">\n",
       "      <th></th>\n",
       "      <th>net_id</th>\n",
       "      <th>speed_mph</th>\n",
       "      <th>length_mi</th>\n",
       "      <th>grade_new</th>\n",
       "    </tr>\n",
       "  </thead>\n",
       "  <tbody>\n",
       "    <tr>\n",
       "      <th>0</th>\n",
       "      <td>23268</td>\n",
       "      <td>25</td>\n",
       "      <td>0.011648</td>\n",
       "      <td>0.0</td>\n",
       "    </tr>\n",
       "    <tr>\n",
       "      <th>1</th>\n",
       "      <td>169248</td>\n",
       "      <td>50</td>\n",
       "      <td>0.056629</td>\n",
       "      <td>0.0</td>\n",
       "    </tr>\n",
       "    <tr>\n",
       "      <th>2</th>\n",
       "      <td>212054</td>\n",
       "      <td>45</td>\n",
       "      <td>0.004110</td>\n",
       "      <td>0.0</td>\n",
       "    </tr>\n",
       "  </tbody>\n",
       "</table>\n",
       "</div>"
      ],
      "text/plain": [
       "   net_id  speed_mph  length_mi  grade_new\n",
       "0   23268         25   0.011648        0.0\n",
       "1  169248         50   0.056629        0.0\n",
       "2  212054         45   0.004110        0.0"
      ]
     },
     "execution_count": 38,
     "metadata": {},
     "output_type": "execute_result"
    }
   ],
   "source": [
    "raw_network = pd.read_csv(r'..\\test_data\\test_route.csv') #pretending this represents a segment-level road network\n",
    "\n",
    "raw_network['volume_new'] = 50 \n",
    "raw_network['grade_new'] = 0.0\n",
    "\n",
    "request_route = raw_network[['net_id', 'speed_mph', 'length_mi', 'grade_new']]\n",
    "\n",
    "print(\"What your data might look like in your database: \")\n",
    "request_route.head(3)"
   ]
  },
  {
   "cell_type": "markdown",
   "id": "c8abf005-e14b-400a-a4ee-f1e7803c8062",
   "metadata": {},
   "source": [
    "## 2. POST to the API the route/network data with additional JSON parameters that define RouteE model application.\n",
    "\n",
    "Data is POSTed to the `/route` endpoint in JSON format. Each request should contain the following JSON keys: \n",
    "\n",
    "1. \"segment_ids\": ordered array of road segment identifiers.\n",
    "2. \"lengths_miles\": ordered array of road segment lenghts (in miles).\n",
    "3. \"speeds_mph\": ordered array of road segment speeds (in MPH).\n",
    "4. \"grades_percent\": ordered array of road segment gradients (as float).\n",
    "5. \"model\": the string representation of the desired vehicle model. The options are:\n",
    "    a. \"gasoline\": conventional gasoline light-duty vehicle\n",
    "    b. \"diesel\": diesel light-duty vehicle\n",
    "    d. \"hybrid\": hybrid light-duty vehicle\n",
    "    e. \"electric\": plug-in hybrid light-duty vehicle\n"
   ]
  },
  {
   "cell_type": "code",
   "execution_count": 39,
   "id": "67a29936-b310-42a2-960b-36d7b8054464",
   "metadata": {},
   "outputs": [
    {
     "name": "stdout",
     "output_type": "stream",
     "text": [
      "200\n"
     ]
    }
   ],
   "source": [
    "# Construct the application/json content-type header object\n",
    "\n",
    "ids = list(raw_network['net_id'])\n",
    "speeds = list(raw_network['speed_mph'])\n",
    "miles = list(raw_network['length_mi'])\n",
    "grades = list(raw_network['grade_new'])\n",
    "\n",
    "request_route_data = {\n",
    "    \"segment_ids\": ids,\n",
    "    \"lengths_miles\": miles,\n",
    "    \"speeds_mph\": speeds,\n",
    "    \"grades_percent\": grades,\n",
    "    \"model\": \"diesel\", \n",
    "}\n",
    "\n",
    "# POST to the API\n",
    "headers = {'content-type': 'application/json'}\n",
    "p = requests.post(DEV_URL_ROUTE,  json=request_route_data, headers=headers)\n",
    "print(p.status_code) #Hope for 200"
   ]
  },
  {
   "cell_type": "markdown",
   "id": "5feec750-2153-4e64-84fa-907bdf5f356d",
   "metadata": {},
   "source": [
    "## 3. Return the API response in JSON format with road segment energy estimates and metadata. Convert the response JSON back to tabular format."
   ]
  },
  {
   "cell_type": "code",
   "execution_count": 40,
   "id": "078ccf67-513e-4a3a-b4a8-aef8513e0cd8",
   "metadata": {},
   "outputs": [
    {
     "name": "stdout",
     "output_type": "stream",
     "text": [
      "Metadata: \n",
      "\n",
      "{'Data Dictionary': {'Output fields': {'energy_estimate': 'Segment level '\n",
      "                                                          'energy estimate'}},\n",
      " 'Energy Unit': 'gge',\n",
      " 'RouteE version': '0.5.1',\n",
      " 'Total Energy': '0.1105',\n",
      " 'Vehicle description': '2016_BMW_328d_4cyl_2WD-speed&grade'}\n",
      "\n",
      "Data: \n",
      "   segment_ids  energy_estimate\n",
      "0        23268         0.000467\n",
      "1       169248         0.001514\n",
      "2       212054         0.000110\n",
      "3        78644         0.001942\n",
      "4       220927         0.000120\n"
     ]
    }
   ],
   "source": [
    "if p.status_code == 200:\n",
    "    print('Metadata: \\n')\n",
    "    pprint(p.json()['output_metadata'])\n",
    "\n",
    "    print('\\nData: ')\n",
    "    new_df = pd.DataFrame(p.json()['route'])\n",
    "    print(new_df.head())\n",
    "else:\n",
    "    print(p.text)"
   ]
  },
  {
   "cell_type": "markdown",
   "id": "9ab48aa1-af93-4dce-b549-9731907bf8f7",
   "metadata": {},
   "source": [
    "## 4. Join (by attribute) with your original data to append the energy cost information."
   ]
  },
  {
   "cell_type": "code",
   "execution_count": 41,
   "id": "bc5691a8-212c-4c84-a38c-ce6d8db29f7e",
   "metadata": {},
   "outputs": [
    {
     "name": "stdout",
     "output_type": "stream",
     "text": [
      "Example results:\n"
     ]
    },
    {
     "data": {
      "text/html": [
       "<div>\n",
       "<style scoped>\n",
       "    .dataframe tbody tr th:only-of-type {\n",
       "        vertical-align: middle;\n",
       "    }\n",
       "\n",
       "    .dataframe tbody tr th {\n",
       "        vertical-align: top;\n",
       "    }\n",
       "\n",
       "    .dataframe thead th {\n",
       "        text-align: right;\n",
       "    }\n",
       "</style>\n",
       "<table border=\"1\" class=\"dataframe\">\n",
       "  <thead>\n",
       "    <tr style=\"text-align: right;\">\n",
       "      <th></th>\n",
       "      <th>net_id</th>\n",
       "      <th>speed_mph</th>\n",
       "      <th>length_mi</th>\n",
       "      <th>grade_new</th>\n",
       "      <th>energy_estimate</th>\n",
       "    </tr>\n",
       "  </thead>\n",
       "  <tbody>\n",
       "    <tr>\n",
       "      <th>0</th>\n",
       "      <td>23268</td>\n",
       "      <td>25</td>\n",
       "      <td>0.011648</td>\n",
       "      <td>0.0</td>\n",
       "      <td>0.000467</td>\n",
       "    </tr>\n",
       "    <tr>\n",
       "      <th>1</th>\n",
       "      <td>169248</td>\n",
       "      <td>50</td>\n",
       "      <td>0.056629</td>\n",
       "      <td>0.0</td>\n",
       "      <td>0.001514</td>\n",
       "    </tr>\n",
       "    <tr>\n",
       "      <th>2</th>\n",
       "      <td>212054</td>\n",
       "      <td>45</td>\n",
       "      <td>0.004110</td>\n",
       "      <td>0.0</td>\n",
       "      <td>0.000110</td>\n",
       "    </tr>\n",
       "    <tr>\n",
       "      <th>3</th>\n",
       "      <td>78644</td>\n",
       "      <td>50</td>\n",
       "      <td>0.072633</td>\n",
       "      <td>0.0</td>\n",
       "      <td>0.001942</td>\n",
       "    </tr>\n",
       "    <tr>\n",
       "      <th>4</th>\n",
       "      <td>220927</td>\n",
       "      <td>45</td>\n",
       "      <td>0.004489</td>\n",
       "      <td>0.0</td>\n",
       "      <td>0.000120</td>\n",
       "    </tr>\n",
       "  </tbody>\n",
       "</table>\n",
       "</div>"
      ],
      "text/plain": [
       "   net_id  speed_mph  length_mi  grade_new  energy_estimate\n",
       "0   23268         25   0.011648        0.0         0.000467\n",
       "1  169248         50   0.056629        0.0         0.001514\n",
       "2  212054         45   0.004110        0.0         0.000110\n",
       "3   78644         50   0.072633        0.0         0.001942\n",
       "4  220927         45   0.004489        0.0         0.000120"
      ]
     },
     "execution_count": 41,
     "metadata": {},
     "output_type": "execute_result"
    }
   ],
   "source": [
    "# Inner join the resulting data with the input data on the \"net_id\" column\n",
    "new_df.rename(columns={'segment_ids': 'net_id'}, inplace=True)\n",
    "joined_data = request_route.merge(new_df, on='net_id', how='inner') \n",
    "\n",
    "print('Example results:')\n",
    "joined_data.head()"
   ]
  },
  {
   "cell_type": "markdown",
   "id": "bf275566-874c-4f2a-b109-289ed8764daa",
   "metadata": {},
   "source": [
    "## B. network endpoint example:\n",
    "\n",
    "This follows the same design as the /route endpoint, with a few changes..."
   ]
  },
  {
   "cell_type": "code",
   "execution_count": 42,
   "id": "589a9d3f-4ee5-45ce-9012-b2394e320178",
   "metadata": {},
   "outputs": [],
   "source": [
    "DEV_URL_NETWORK = f'https://developer.nrel.gov/api/routee/v2/network?api_key={your_api_key}'"
   ]
  },
  {
   "cell_type": "markdown",
   "id": "b3e5571b-3f70-4f65-9c33-537575bd5097",
   "metadata": {},
   "source": [
    "## 1. Take the user's tabular route or network transportation data, convert it to JSON format."
   ]
  },
  {
   "cell_type": "code",
   "execution_count": 43,
   "id": "ac8383a5-49ae-4303-9dfd-00e34e8a6302",
   "metadata": {},
   "outputs": [
    {
     "name": "stdout",
     "output_type": "stream",
     "text": [
      "What your data might look like in your database: \n"
     ]
    },
    {
     "data": {
      "text/html": [
       "<div>\n",
       "<style scoped>\n",
       "    .dataframe tbody tr th:only-of-type {\n",
       "        vertical-align: middle;\n",
       "    }\n",
       "\n",
       "    .dataframe tbody tr th {\n",
       "        vertical-align: top;\n",
       "    }\n",
       "\n",
       "    .dataframe thead th {\n",
       "        text-align: right;\n",
       "    }\n",
       "</style>\n",
       "<table border=\"1\" class=\"dataframe\">\n",
       "  <thead>\n",
       "    <tr style=\"text-align: right;\">\n",
       "      <th></th>\n",
       "      <th>net_id</th>\n",
       "      <th>speed_mph</th>\n",
       "      <th>length_mi</th>\n",
       "      <th>grade_new</th>\n",
       "      <th>volume_new</th>\n",
       "    </tr>\n",
       "  </thead>\n",
       "  <tbody>\n",
       "    <tr>\n",
       "      <th>0</th>\n",
       "      <td>23268</td>\n",
       "      <td>25</td>\n",
       "      <td>0.011648</td>\n",
       "      <td>0.0</td>\n",
       "      <td>50</td>\n",
       "    </tr>\n",
       "    <tr>\n",
       "      <th>1</th>\n",
       "      <td>169248</td>\n",
       "      <td>50</td>\n",
       "      <td>0.056629</td>\n",
       "      <td>0.0</td>\n",
       "      <td>50</td>\n",
       "    </tr>\n",
       "    <tr>\n",
       "      <th>2</th>\n",
       "      <td>212054</td>\n",
       "      <td>45</td>\n",
       "      <td>0.004110</td>\n",
       "      <td>0.0</td>\n",
       "      <td>50</td>\n",
       "    </tr>\n",
       "  </tbody>\n",
       "</table>\n",
       "</div>"
      ],
      "text/plain": [
       "   net_id  speed_mph  length_mi  grade_new  volume_new\n",
       "0   23268         25   0.011648        0.0          50\n",
       "1  169248         50   0.056629        0.0          50\n",
       "2  212054         45   0.004110        0.0          50"
      ]
     },
     "execution_count": 43,
     "metadata": {},
     "output_type": "execute_result"
    }
   ],
   "source": [
    "# Converting the test data .csv to a pandas data table.\n",
    "# Using the same dataframe as before\n",
    "request_network = raw_network[['net_id', 'speed_mph', 'length_mi', 'grade_new', 'volume_new']] #trimming to only necessary columns (volume required for network endpoint)\n",
    "\n",
    "print(\"What your data might look like in your database: \")\n",
    "request_network.head(3)"
   ]
  },
  {
   "cell_type": "markdown",
   "id": "74695941-e2ee-47f1-9ec9-25902aa5c511",
   "metadata": {},
   "source": [
    "## 2. POST to the API the route/network data with additional JSON parameters that define RouteE model application.\n",
    "\n",
    "Data is POSTed to the `/route` endpoint in JSON format. Each request should contain the following JSON keys: \n",
    "\n",
    "1. \"segment_ids\": ordered array of road segment identifiers.\n",
    "2. \"lengths_miles\": ordered array of road segment lenghts (in miles).\n",
    "3. \"speeds_mph\": ordered array of road segment speeds (in MPH).\n",
    "4. \"grades_percent\": ordered array of road segment gradients (as float).\n",
    "5. \"volumes\": ordered array of road segment-level traffic counts (as int).\n",
    "6. \"gasoline_ratio\": The percentage (as float) of vehicles on the road represented by gasoline vehicles.\n",
    "7. \"diesel_ratio\": The percentage (as float) of vehicles on the road represented by diesel vehicles.\n",
    "8. \"hybrid_ratio\": The percentage (as float) of vehicles on the road represented by hybrid vehicles.\n",
    "9. \"electric_ratio\": The percentage (as float) of vehicles on the road represented by electric vehicles."
   ]
  },
  {
   "cell_type": "code",
   "execution_count": 44,
   "id": "43a4765c-506d-47dd-9ed0-99f22c29160f",
   "metadata": {},
   "outputs": [
    {
     "name": "stdout",
     "output_type": "stream",
     "text": [
      "200\n"
     ]
    }
   ],
   "source": [
    "# Construct the application/json content-type header object\n",
    "\n",
    "ids = list(request_network['net_id'])\n",
    "speeds = list(request_network['speed_mph'])\n",
    "miles = list(request_network['length_mi'])\n",
    "grades = list(request_network['grade_new'])\n",
    "volumes = list(request_network['volume_new'])\n",
    "\n",
    "request_network_data = {\n",
    "    \"segment_ids\": ids,\n",
    "    \"lengths_miles\": miles,\n",
    "    \"speeds_mph\": speeds,\n",
    "    \"grades_percent\": grades,\n",
    "    \"volumes\": volumes,\n",
    "    \"gasoline_ratio\": 0.85, \n",
    "    \"diesel_ratio\": 0.1,\n",
    "    \"hybrid_ratio\": 0.025,\n",
    "    \"electric_ratio\": 0.025\n",
    "}\n",
    "\n",
    "# POST to the API\n",
    "headers = {'content-type': 'application/json'}\n",
    "p = requests.post(DEV_URL_NETWORK,  json=request_network_data, headers=headers)\n",
    "print(p.status_code) #Hope for 200"
   ]
  },
  {
   "cell_type": "markdown",
   "id": "83d828f7-9286-48fc-a94f-a8ddc07493aa",
   "metadata": {},
   "source": [
    "## 3. Return the API response in JSON format with road segment energy estimates and metadata. Convert the response JSON back to tabular format."
   ]
  },
  {
   "cell_type": "code",
   "execution_count": 45,
   "id": "1b361b25-c5e0-46a9-a6f4-3bf5e8ecb2ad",
   "metadata": {},
   "outputs": [
    {
     "name": "stdout",
     "output_type": "stream",
     "text": [
      "Metadata: \n",
      "\n",
      "{'Data dictionary': {'Output fields': {'diesel_total_energy': 'Conventional '\n",
      "                                                              'diesel vehicle '\n",
      "                                                              'single total '\n",
      "                                                              'energy estimate',\n",
      "                                       'electric_charge_depleting_total_energy': 'Battery '\n",
      "                                                                                 'electric '\n",
      "                                                                                 'vehicle '\n",
      "                                                                                 'total '\n",
      "                                                                                 'energy '\n",
      "                                                                                 'estimate',\n",
      "                                       'gasoline_total_energy': 'Conventional '\n",
      "                                                                'gasoline '\n",
      "                                                                'vehicle total '\n",
      "                                                                'energy '\n",
      "                                                                'estimate',\n",
      "                                       'hybrid_total_energy': 'Hybrid electric '\n",
      "                                                              'vehicle total '\n",
      "                                                              'energy estimate',\n",
      "                                       'total_energy': 'Total segment level '\n",
      "                                                       'energy estimate'}},\n",
      " 'Energy summary': {'Total BEV energy': ' 0.0383',\n",
      "                    'Total HEV energy': ' 0.0927',\n",
      "                    'Total diesel energy': ' 0.5525',\n",
      "                    'Total energy': '5.3515',\n",
      "                    'Total gasoline energy': ' 4.6680'},\n",
      " 'Energy unit': 'GGE',\n",
      " 'RouteE Models': {'BEV': '2016 Chevrolet Spark',\n",
      "                   'Conventional Gasoline': '2016 Chevrolet Malibu 4-cylinder',\n",
      "                   'Diesel': '2016 BMW 328d 4-cylinder',\n",
      "                   'HEV': '2015 Honda Accord HEV'},\n",
      " 'RouteE version': 'v0.5.0'}\n",
      "\n",
      "Data: \n",
      "   segment_ids  gasoline_total_energy  diesel_total_energy  \\\n",
      "0        23268               0.019486             0.002333   \n",
      "1       169248               0.063649             0.007570   \n",
      "2       212054               0.004619             0.000549   \n",
      "3        78644               0.081637             0.009710   \n",
      "4       220927               0.005045             0.000600   \n",
      "\n",
      "   hybrid_total_energy  electric_total_energy  \n",
      "0             0.000382               0.000103  \n",
      "1             0.001336               0.000573  \n",
      "2             0.000090               0.000036  \n",
      "3             0.001714               0.000735  \n",
      "4             0.000098               0.000039  \n"
     ]
    }
   ],
   "source": [
    "if p.status_code == 200:\n",
    "    print('Metadata: \\n')\n",
    "    pprint(p.json()['output_metadata'])\n",
    "\n",
    "    print('\\nData: ')\n",
    "    new_df = pd.DataFrame(p.json()['network'])\n",
    "    print(new_df.head())\n",
    "else:\n",
    "    print(p.text)"
   ]
  },
  {
   "cell_type": "markdown",
   "id": "74e5a324-bb2e-4f5b-a4c9-5d1c58291413",
   "metadata": {},
   "source": [
    "## 4. Join (by attribute) with your original data to append the energy cost information."
   ]
  },
  {
   "cell_type": "code",
   "execution_count": 46,
   "id": "613ab7d0-5aa6-445d-a1d8-e21e53b690a7",
   "metadata": {},
   "outputs": [
    {
     "name": "stdout",
     "output_type": "stream",
     "text": [
      "Example results: \n"
     ]
    },
    {
     "data": {
      "text/html": [
       "<div>\n",
       "<style scoped>\n",
       "    .dataframe tbody tr th:only-of-type {\n",
       "        vertical-align: middle;\n",
       "    }\n",
       "\n",
       "    .dataframe tbody tr th {\n",
       "        vertical-align: top;\n",
       "    }\n",
       "\n",
       "    .dataframe thead th {\n",
       "        text-align: right;\n",
       "    }\n",
       "</style>\n",
       "<table border=\"1\" class=\"dataframe\">\n",
       "  <thead>\n",
       "    <tr style=\"text-align: right;\">\n",
       "      <th></th>\n",
       "      <th>net_id</th>\n",
       "      <th>speed_mph</th>\n",
       "      <th>length_mi</th>\n",
       "      <th>grade_new</th>\n",
       "      <th>volume_new</th>\n",
       "      <th>gasoline_total_energy</th>\n",
       "      <th>diesel_total_energy</th>\n",
       "      <th>hybrid_total_energy</th>\n",
       "      <th>electric_total_energy</th>\n",
       "    </tr>\n",
       "  </thead>\n",
       "  <tbody>\n",
       "    <tr>\n",
       "      <th>0</th>\n",
       "      <td>23268</td>\n",
       "      <td>25</td>\n",
       "      <td>0.011648</td>\n",
       "      <td>0.0</td>\n",
       "      <td>50</td>\n",
       "      <td>0.019486</td>\n",
       "      <td>0.002333</td>\n",
       "      <td>0.000382</td>\n",
       "      <td>0.000103</td>\n",
       "    </tr>\n",
       "    <tr>\n",
       "      <th>1</th>\n",
       "      <td>169248</td>\n",
       "      <td>50</td>\n",
       "      <td>0.056629</td>\n",
       "      <td>0.0</td>\n",
       "      <td>50</td>\n",
       "      <td>0.063649</td>\n",
       "      <td>0.007570</td>\n",
       "      <td>0.001336</td>\n",
       "      <td>0.000573</td>\n",
       "    </tr>\n",
       "    <tr>\n",
       "      <th>2</th>\n",
       "      <td>212054</td>\n",
       "      <td>45</td>\n",
       "      <td>0.004110</td>\n",
       "      <td>0.0</td>\n",
       "      <td>50</td>\n",
       "      <td>0.004619</td>\n",
       "      <td>0.000549</td>\n",
       "      <td>0.000090</td>\n",
       "      <td>0.000036</td>\n",
       "    </tr>\n",
       "    <tr>\n",
       "      <th>3</th>\n",
       "      <td>78644</td>\n",
       "      <td>50</td>\n",
       "      <td>0.072633</td>\n",
       "      <td>0.0</td>\n",
       "      <td>50</td>\n",
       "      <td>0.081637</td>\n",
       "      <td>0.009710</td>\n",
       "      <td>0.001714</td>\n",
       "      <td>0.000735</td>\n",
       "    </tr>\n",
       "    <tr>\n",
       "      <th>4</th>\n",
       "      <td>220927</td>\n",
       "      <td>45</td>\n",
       "      <td>0.004489</td>\n",
       "      <td>0.0</td>\n",
       "      <td>50</td>\n",
       "      <td>0.005045</td>\n",
       "      <td>0.000600</td>\n",
       "      <td>0.000098</td>\n",
       "      <td>0.000039</td>\n",
       "    </tr>\n",
       "  </tbody>\n",
       "</table>\n",
       "</div>"
      ],
      "text/plain": [
       "   net_id  speed_mph  length_mi  grade_new  volume_new  gasoline_total_energy  \\\n",
       "0   23268         25   0.011648        0.0          50               0.019486   \n",
       "1  169248         50   0.056629        0.0          50               0.063649   \n",
       "2  212054         45   0.004110        0.0          50               0.004619   \n",
       "3   78644         50   0.072633        0.0          50               0.081637   \n",
       "4  220927         45   0.004489        0.0          50               0.005045   \n",
       "\n",
       "   diesel_total_energy  hybrid_total_energy  electric_total_energy  \n",
       "0             0.002333             0.000382               0.000103  \n",
       "1             0.007570             0.001336               0.000573  \n",
       "2             0.000549             0.000090               0.000036  \n",
       "3             0.009710             0.001714               0.000735  \n",
       "4             0.000600             0.000098               0.000039  "
      ]
     },
     "execution_count": 46,
     "metadata": {},
     "output_type": "execute_result"
    }
   ],
   "source": [
    "# Inner join the resulting data with the input data on the \"net_id\" column\n",
    "new_df.rename(columns={'segment_ids': 'net_id'}, inplace=True)\n",
    "joined_data = request_network.merge(new_df, on='net_id', how='inner') \n",
    "\n",
    "print('Example results: ')\n",
    "joined_data.head()"
   ]
  },
  {
   "cell_type": "code",
   "execution_count": null,
   "id": "9f446ec4-f116-44bd-95bd-6becc0223a13",
   "metadata": {},
   "outputs": [],
   "source": []
  }
 ],
 "metadata": {
  "kernelspec": {
   "display_name": "Python 3 (ipykernel)",
   "language": "python",
   "name": "python3"
  },
  "language_info": {
   "codemirror_mode": {
    "name": "ipython",
    "version": 3
   },
   "file_extension": ".py",
   "mimetype": "text/x-python",
   "name": "python",
   "nbconvert_exporter": "python",
   "pygments_lexer": "ipython3",
   "version": "3.8.8"
  }
 },
 "nbformat": 4,
 "nbformat_minor": 5
}
