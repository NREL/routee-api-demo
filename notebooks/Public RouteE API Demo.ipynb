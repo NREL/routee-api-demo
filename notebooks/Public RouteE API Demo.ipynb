{
 "cells": [
  {
   "cell_type": "markdown",
   "id": "684adf92-d9af-4b31-aef9-8c5b26944083",
   "metadata": {},
   "source": [
    "# RouteE API Walkthrough\n",
    "\n",
    "This notebook demonstrates how to use the RouteE API. \n",
    "\n",
    "### Requirements: \n",
    "- [Python](https://www.python.org/): 3.8.X\n",
    "- [requests](https://docs.python-requests.org/en/latest/): 2.25.X\n",
    "- [pandas](https://pandas.pydata.org/): 1.2.X\n",
    "- A developer.nrel.gov API key. Sign-up [here](https://developer.nrel.gov/signup/).\n",
    "\n",
    "For more detailed information see the [API documentation](https://developer.nrel.gov/docs/transportation/routee-v1/) or the [API key rate limits page](https://developer.nrel.gov/docs/rate-limits/)."
   ]
  },
  {
   "cell_type": "markdown",
   "id": "9ba2d01d-72c6-400d-b56e-03a8bc36af35",
   "metadata": {},
   "source": [
    "## Design and Intend Usage Philosophy\n",
    "\n",
    "This tool was designed with a specific application in mind. The overall workflow is:\n",
    "\n",
    "1. Take the user's tabular route or transport network data, convert it to JSON format\n",
    "2. POST to the API the route/network data with additional JSON parameters that define RouteE model application.\n",
    "3. Return the API response in JSON format with road segment energy estimates and metadata. Then, convert the response JSON back to tabular format.\n",
    "4. Join (by attribute) with your original data to append the energy cost information."
   ]
  },
  {
   "cell_type": "markdown",
   "id": "43aa16cf-7967-4b39-8739-bf02b428fd16",
   "metadata": {},
   "source": [
    "## A. route endpoint example:"
   ]
  },
  {
   "cell_type": "code",
   "execution_count": 1,
   "id": "9f337939-3605-4114-9038-96286a715caf",
   "metadata": {},
   "outputs": [],
   "source": [
    "# Setup\n",
    "import requests\n",
    "import warnings\n",
    "import json\n",
    "\n",
    "import pandas as pd\n",
    "from pprint import pprint\n",
    "from pathlib import Path\n",
    "\n",
    "warnings.filterwarnings('ignore')\n",
    "\n",
    "your_api_key = 'DEMO_KEY'\n",
    "\n",
    "DEV_URL_ROUTE = f'https://developer.nrel.gov/api/routee/v2/route?api_key={your_api_key}'"
   ]
  },
  {
   "cell_type": "markdown",
   "id": "d569c8d5-6f93-4832-aed8-2bdce82c23d9",
   "metadata": {},
   "source": [
    "## Design and Intend Usage Philosophy\n",
    "\n",
    "This tool was designed with a specific application in mind. The overall workflow is:\n",
    "\n",
    "1. Take the user's tabular route or transport network data, convert it to JSON format\n",
    "2. POST to the API the route/network data with additional JSON parameters that define RouteE model application.\n",
    "3. Return the API response in JSON format with road segment energy estimates and metadata. Then, convert the response JSON back to tabular format.\n",
    "4. Join (by attribute) with your original data to append the energy cost information."
   ]
  },
  {
   "cell_type": "code",
   "execution_count": 5,
   "id": "a49166f1-84a4-4b3b-ba3a-fe9abb724e87",
   "metadata": {},
   "outputs": [
    {
     "data": {
      "text/html": [
       "<div>\n",
       "<style scoped>\n",
       "    .dataframe tbody tr th:only-of-type {\n",
       "        vertical-align: middle;\n",
       "    }\n",
       "\n",
       "    .dataframe tbody tr th {\n",
       "        vertical-align: top;\n",
       "    }\n",
       "\n",
       "    .dataframe thead th {\n",
       "        text-align: right;\n",
       "    }\n",
       "</style>\n",
       "<table border=\"1\" class=\"dataframe\">\n",
       "  <thead>\n",
       "    <tr style=\"text-align: right;\">\n",
       "      <th></th>\n",
       "      <th>sampno</th>\n",
       "      <th>tripno</th>\n",
       "      <th>net_id</th>\n",
       "      <th>length_mi</th>\n",
       "      <th>speed_mph</th>\n",
       "      <th>miles_new</th>\n",
       "      <th>gpsspeed_new</th>\n",
       "      <th>volume_new</th>\n",
       "      <th>grade_new</th>\n",
       "    </tr>\n",
       "  </thead>\n",
       "  <tbody>\n",
       "    <tr>\n",
       "      <th>0</th>\n",
       "      <td>11394</td>\n",
       "      <td>1</td>\n",
       "      <td>23268</td>\n",
       "      <td>0.011648</td>\n",
       "      <td>25</td>\n",
       "      <td>0.011648</td>\n",
       "      <td>25</td>\n",
       "      <td>50</td>\n",
       "      <td>0.0</td>\n",
       "    </tr>\n",
       "    <tr>\n",
       "      <th>1</th>\n",
       "      <td>11394</td>\n",
       "      <td>1</td>\n",
       "      <td>169248</td>\n",
       "      <td>0.056629</td>\n",
       "      <td>50</td>\n",
       "      <td>0.056629</td>\n",
       "      <td>50</td>\n",
       "      <td>50</td>\n",
       "      <td>0.0</td>\n",
       "    </tr>\n",
       "    <tr>\n",
       "      <th>2</th>\n",
       "      <td>11394</td>\n",
       "      <td>1</td>\n",
       "      <td>212054</td>\n",
       "      <td>0.004110</td>\n",
       "      <td>45</td>\n",
       "      <td>0.004110</td>\n",
       "      <td>45</td>\n",
       "      <td>50</td>\n",
       "      <td>0.0</td>\n",
       "    </tr>\n",
       "  </tbody>\n",
       "</table>\n",
       "</div>"
      ],
      "text/plain": [
       "   sampno  tripno  net_id  length_mi  speed_mph  miles_new  gpsspeed_new  \\\n",
       "0   11394       1   23268   0.011648         25   0.011648            25   \n",
       "1   11394       1  169248   0.056629         50   0.056629            50   \n",
       "2   11394       1  212054   0.004110         45   0.004110            45   \n",
       "\n",
       "   volume_new  grade_new  \n",
       "0          50        0.0  \n",
       "1          50        0.0  \n",
       "2          50        0.0  "
      ]
     },
     "execution_count": 5,
     "metadata": {},
     "output_type": "execute_result"
    }
   ],
   "source": [
    "raw_network = pd.read_csv(r'..\\test_data\\test_route.csv') #pretending this represents a segment-level road network\n",
    "\n",
    "FT_TO_MILES = 0.000189394\n",
    "raw_network['volume'] = 50 #assuming constant traffic on all road segments\n",
    "raw_network['grade'] = 0.0 #assuming flat road grade\n",
    "\n",
    "ids = list(raw_network['net_id'])\n",
    "speeds = list(raw_network['speed_mph'])\n",
    "miles = list(raw_network['length_mi'])\n",
    "grades = list(raw_network['grade_new'])\n",
    "volumes = list(raw_network['volume'])\n",
    "\n",
    "raw_network.head(3)"
   ]
  },
  {
   "cell_type": "code",
   "execution_count": 6,
   "id": "8b496cfc-4c7b-4606-b291-0f7a3d5a5337",
   "metadata": {},
   "outputs": [
    {
     "name": "stdout",
     "output_type": "stream",
     "text": [
      "Now, each key in this object represnts the column name, and the corresponding value is an ordered array of the tabular data values...\n",
      "dict_keys(['net_id', 'miles_new', 'gpsspeed_new', 'grade_new'])\n",
      "\n",
      "net_id values: \n",
      "[23268, 169248, 212054, 78644, 220927, 105336, 169177, 241740, 104671, 204282, 76309, 216556, 216556, 104411, 267287, 294133, 73830, 3483, 95298, 121242, 145347, 285510, 100578, 169693, 13838, 53720, 53720, 56767, 243066, 228406, 86346, 311372, 96972, 8037, 257441, 284938, 61371, 179737, 179972, 179972, 67737, 171114, 136953, 79547, 10885, 102705, 67903, 168516, 70025, 62517, 199702, 284547, 202258, 196206, 67816, 65129, 310230, 71209, 276847, 44390, 129580, 299035, 196825, 290084, 119061]\n"
     ]
    }
   ],
   "source": [
    "request_route_json = request_route.to_dict(orient='list')\n",
    "\n",
    "print(\"Now, each key in this object represnts the column name, and the corresponding value is an ordered array of the tabular data values...\")\n",
    "print(request_route_json.keys())\n",
    "\n",
    "print(\"\\nnet_id values: \")\n",
    "print(request_route_json['net_id'])"
   ]
  },
  {
   "cell_type": "markdown",
   "id": "c8abf005-e14b-400a-a4ee-f1e7803c8062",
   "metadata": {},
   "source": [
    "## 2. POST to the API the route/network data with additional JSON parameters that define RouteE model application.\n",
    "\n",
    "Data is POSTed to the `/route` endpoint in JSON format. Each request should contain the following JSON keys: \n",
    "\n",
    "1. \"route\": the JSON route data from the above.\n",
    "2. \"model\": the string representation of the desired vehicle model. The options are:\n",
    "    a. \"cv\": conventional gasoline light-duty vehicle\n",
    "    b. \"diesel\": diesel light-duty vehicle\n",
    "    c. \"bev\": battery electric light-duty vehicle\n",
    "    d. \"hev\": hybrid light-duty vehicle\n",
    "    e. \"phev\": plug-in hybrid light-duty vehicle\n",
    "    \n",
    "3. \"field_mapper\": this is where you tell the API which of your fields match with the specific field names the routee Python code looks for. In this example:\n",
    "    a. the input data calls the MPH speed field \"gpsspeed_new\". RouteE looks for \"gpsspeed\", so the value in the `field_mapper` object would written `\"gpsspeed\": \"gpsspeed_new\"`.\n",
    "    b. repeat for `\"miles\": \"miles_new\", \"grade\": \"grade_new\", \"id\": \"net_d\"`.\n",
    "4. \"omit_grade\" (optional Boolean): This can be used and set to True if you have no grade information on your road segments. By default, it is False and assumes you will be passing in valid `\"grade\"` data."
   ]
  },
  {
   "cell_type": "code",
   "execution_count": 7,
   "id": "67a29936-b310-42a2-960b-36d7b8054464",
   "metadata": {},
   "outputs": [
    {
     "name": "stdout",
     "output_type": "stream",
     "text": [
      "200\n"
     ]
    }
   ],
   "source": [
    "# Construct the application/json content-type header object\n",
    "\n",
    "request_route_data = {\n",
    "    \"route\": request_route_json,\n",
    "    \"model\": \"diesel\", #starting with diesel for this example\n",
    "    \"field_mapper\": {\n",
    "        \"miles\": \"miles_new\",\n",
    "        \"gpsspeed\": \"gpsspeed_new\",\n",
    "        \"grade\":\"grade_new\",\n",
    "        \"id\": \"net_id\"\n",
    "    }\n",
    "}\n",
    "\n",
    "# POST to the API\n",
    "headers = {'content-type': 'application/json'}\n",
    "p = requests.post(DEV_URL_ROUTE,  json=request_route_data, headers=headers)\n",
    "print(p.status_code) #Hope for 200"
   ]
  },
  {
   "cell_type": "markdown",
   "id": "5feec750-2153-4e64-84fa-907bdf5f356d",
   "metadata": {},
   "source": [
    "## 3. Return the API response in JSON format with road segment energy estimates and metadata. Convert the response JSON back to tabular format."
   ]
  },
  {
   "cell_type": "code",
   "execution_count": 8,
   "id": "078ccf67-513e-4a3a-b4a8-aef8513e0cd8",
   "metadata": {},
   "outputs": [
    {
     "name": "stdout",
     "output_type": "stream",
     "text": [
      "Metadata: \n",
      "\n",
      "{'Data Dictionary': {'Output fields': {'energy_estimate': 'Segment level '\n",
      "                                                          'energy estimate'}},\n",
      " 'Energy Unit': 'gallons',\n",
      " 'RouteE version': '0.4.0',\n",
      " 'Total Energy': '0.1009',\n",
      " 'Vehicle description': '2016_BMW_328d_4cyl_2WD'}\n",
      "\n",
      "Data: \n",
      "   net_id  energy_estimate\n",
      "0   23268         0.000410\n",
      "1  169248         0.001416\n",
      "2  212054         0.000103\n",
      "3   78644         0.001816\n",
      "4  220927         0.000112\n"
     ]
    }
   ],
   "source": [
    "if p.status_code == 200:\n",
    "    print('Metadata: \\n')\n",
    "    pprint(p.json()['output_metadata'])\n",
    "\n",
    "    print('\\nData: ')\n",
    "    new_df = pd.DataFrame(p.json()['route'])\n",
    "    print(new_df.head())\n",
    "else:\n",
    "    print(p.text)"
   ]
  },
  {
   "cell_type": "markdown",
   "id": "9ab48aa1-af93-4dce-b549-9731907bf8f7",
   "metadata": {},
   "source": [
    "## 4. Join (by attribute) with your original data to append the energy cost information."
   ]
  },
  {
   "cell_type": "code",
   "execution_count": 9,
   "id": "bc5691a8-212c-4c84-a38c-ce6d8db29f7e",
   "metadata": {},
   "outputs": [
    {
     "data": {
      "text/html": [
       "<div>\n",
       "<style scoped>\n",
       "    .dataframe tbody tr th:only-of-type {\n",
       "        vertical-align: middle;\n",
       "    }\n",
       "\n",
       "    .dataframe tbody tr th {\n",
       "        vertical-align: top;\n",
       "    }\n",
       "\n",
       "    .dataframe thead th {\n",
       "        text-align: right;\n",
       "    }\n",
       "</style>\n",
       "<table border=\"1\" class=\"dataframe\">\n",
       "  <thead>\n",
       "    <tr style=\"text-align: right;\">\n",
       "      <th></th>\n",
       "      <th>net_id</th>\n",
       "      <th>miles_new</th>\n",
       "      <th>gpsspeed_new</th>\n",
       "      <th>grade_new</th>\n",
       "      <th>energy_estimate</th>\n",
       "    </tr>\n",
       "  </thead>\n",
       "  <tbody>\n",
       "    <tr>\n",
       "      <th>0</th>\n",
       "      <td>23268</td>\n",
       "      <td>0.011648</td>\n",
       "      <td>25</td>\n",
       "      <td>0.0</td>\n",
       "      <td>0.000410</td>\n",
       "    </tr>\n",
       "    <tr>\n",
       "      <th>1</th>\n",
       "      <td>169248</td>\n",
       "      <td>0.056629</td>\n",
       "      <td>50</td>\n",
       "      <td>0.0</td>\n",
       "      <td>0.001416</td>\n",
       "    </tr>\n",
       "    <tr>\n",
       "      <th>2</th>\n",
       "      <td>212054</td>\n",
       "      <td>0.004110</td>\n",
       "      <td>45</td>\n",
       "      <td>0.0</td>\n",
       "      <td>0.000103</td>\n",
       "    </tr>\n",
       "    <tr>\n",
       "      <th>3</th>\n",
       "      <td>78644</td>\n",
       "      <td>0.072633</td>\n",
       "      <td>50</td>\n",
       "      <td>0.0</td>\n",
       "      <td>0.001816</td>\n",
       "    </tr>\n",
       "    <tr>\n",
       "      <th>4</th>\n",
       "      <td>220927</td>\n",
       "      <td>0.004489</td>\n",
       "      <td>45</td>\n",
       "      <td>0.0</td>\n",
       "      <td>0.000112</td>\n",
       "    </tr>\n",
       "  </tbody>\n",
       "</table>\n",
       "</div>"
      ],
      "text/plain": [
       "   net_id  miles_new  gpsspeed_new  grade_new  energy_estimate\n",
       "0   23268   0.011648            25        0.0         0.000410\n",
       "1  169248   0.056629            50        0.0         0.001416\n",
       "2  212054   0.004110            45        0.0         0.000103\n",
       "3   78644   0.072633            50        0.0         0.001816\n",
       "4  220927   0.004489            45        0.0         0.000112"
      ]
     },
     "execution_count": 9,
     "metadata": {},
     "output_type": "execute_result"
    }
   ],
   "source": [
    "# Inner join the resulting data with the input data on the \"net_id\" column\n",
    "joined_data = request_route.merge(new_df, on='net_id', how='inner') \n",
    "\n",
    "joined_data.head()"
   ]
  },
  {
   "cell_type": "markdown",
   "id": "bf275566-874c-4f2a-b109-289ed8764daa",
   "metadata": {},
   "source": [
    "## B. network endpoint example:\n",
    "\n",
    "This follows the same design as the /route endpoint, with a few changes..."
   ]
  },
  {
   "cell_type": "code",
   "execution_count": 15,
   "id": "589a9d3f-4ee5-45ce-9012-b2394e320178",
   "metadata": {},
   "outputs": [],
   "source": [
    "DEV_URL_ROUTE = f'https://developer.nrel.gov/api/routee/v1/network?api_key={your_api_key}'"
   ]
  },
  {
   "cell_type": "code",
   "execution_count": null,
   "id": "ac8383a5-49ae-4303-9dfd-00e34e8a6302",
   "metadata": {},
   "outputs": [],
   "source": [
    "# Converting the test data .csv to a pandas data table.\n",
    "test_route_path = Path('../../test_data/test_route/test_route.csv')\n",
    "raw_network = pd.read_csv(test_route_path) #test data that could represent a network or a route. Provided separately\n",
    "\n",
    "FT_TO_MILES = 0.000189394\n",
    "\n",
    "# Current RouteE models require segment-level distance (in miles), speed (in MPH), and grade (%) to return an energy estimate\n",
    "raw_network['miles_new'] = raw_network.length_ft * FT_TO_MILES \n",
    "raw_network['gpsspeed_new'] = raw_network.speed_mph #can just be posted speed\n",
    "raw_network['grade_new'] = 0.0 #assuming flat grade\n",
    "raw_network['volume'] = 25 #assuming constant volume on each road segment\n",
    "\n",
    "request_network = raw_network[['net_id', 'miles_new', 'gpsspeed_new', 'grade_new']] #trimming to only necessary columns\n",
    "\n",
    "print(\"What your data might look like in your database: \")\n",
    "request_route.head(3)"
   ]
  }
 ],
 "metadata": {
  "kernelspec": {
   "display_name": "Python 3 (ipykernel)",
   "language": "python",
   "name": "python3"
  },
  "language_info": {
   "codemirror_mode": {
    "name": "ipython",
    "version": 3
   },
   "file_extension": ".py",
   "mimetype": "text/x-python",
   "name": "python",
   "nbconvert_exporter": "python",
   "pygments_lexer": "ipython3",
   "version": "3.8.8"
  }
 },
 "nbformat": 4,
 "nbformat_minor": 5
}
